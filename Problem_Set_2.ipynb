{
 "cells": [
  {
   "cell_type": "code",
   "execution_count": 1,
   "id": "c914c95c",
   "metadata": {},
   "outputs": [],
   "source": [
    "#Question 1:\n",
    "\n",
    "a = 0  \n",
    "\n",
    "def b():     \n",
    "    global a    \n",
    "    a = c(a)\n",
    "\n",
    "def c(a):     \n",
    "    return a + 2"
   ]
  },
  {
   "cell_type": "code",
   "execution_count": 2,
   "id": "b92fe762",
   "metadata": {},
   "outputs": [],
   "source": [
    "b()"
   ]
  },
  {
   "cell_type": "code",
   "execution_count": 3,
   "id": "0cae9144",
   "metadata": {},
   "outputs": [],
   "source": [
    "b()"
   ]
  },
  {
   "cell_type": "code",
   "execution_count": 4,
   "id": "7a539917",
   "metadata": {},
   "outputs": [],
   "source": [
    "b()"
   ]
  },
  {
   "cell_type": "code",
   "execution_count": 5,
   "id": "c206f779",
   "metadata": {},
   "outputs": [
    {
     "data": {
      "text/plain": [
       "6"
      ]
     },
     "execution_count": 5,
     "metadata": {},
     "output_type": "execute_result"
    }
   ],
   "source": [
    "a"
   ]
  },
  {
   "cell_type": "markdown",
   "id": "bab138a8",
   "metadata": {},
   "source": [
    "Explanation for Question 1: \n",
    "\n",
    "Initally, the value of a is assigned to 0. \n",
    "a is declared as a global variable inside the function, but it will have a scope throughout the program. This means that the vlaue of a is accessible throughout the program. \n",
    "\n",
    "When b() is called for the first time, the value of a, that is 0, is passed to c() and 2 is returned. \n",
    "When b() is called for the second time, the updated value of a, that is 2 is passed to c() because a is declared as a global variable and 4 is returned. \n",
    "When b() is called for the third time, the updated value of a, that is 4 is passed to c() because a is declared as a global variable and 6 is returned. \n",
    "\n",
    "Now, when the value of a is printed, it will show 6. "
   ]
  },
  {
   "cell_type": "code",
   "execution_count": null,
   "id": "8553a972",
   "metadata": {},
   "outputs": [],
   "source": []
  },
  {
   "cell_type": "code",
   "execution_count": 10,
   "id": "928f3421",
   "metadata": {},
   "outputs": [
    {
     "name": "stdout",
     "output_type": "stream",
     "text": [
      "44\n",
      "File Hello.txt not found\n"
     ]
    }
   ],
   "source": [
    "#Question 2:\n",
    "\n",
    "def file_length(file_name):\n",
    "    \n",
    "    try:\n",
    "        file = open(file_name)\n",
    "        contents = file.read()\n",
    "        file.close()\n",
    "        print(len(contents))\n",
    "        \n",
    "    except Exception as e:\n",
    "        print('File',format(file_name),'not found')\n",
    "\n",
    "file_length('Introduction.txt')\n",
    "file_length('Hello.txt')"
   ]
  },
  {
   "cell_type": "code",
   "execution_count": null,
   "id": "f5c3c7a3",
   "metadata": {},
   "outputs": [],
   "source": []
  },
  {
   "cell_type": "code",
   "execution_count": 13,
   "id": "cd8e7697",
   "metadata": {},
   "outputs": [
    {
     "name": "stdout",
     "output_type": "stream",
     "text": [
      "['doll', 'firetruck', 'kitten']\n",
      "I am a Kangaroo located at coordinates (0,0)\n",
      "['doll', 'firetruck', 'kitten']\n",
      "I am a Kangaroo located at coordinates (3,0)\n"
     ]
    }
   ],
   "source": [
    "#Question 3:\n",
    "\n",
    "class Marsupial():\n",
    "    content = []\n",
    "    def __init__(self):\n",
    "        self.content = []\n",
    "    def put_in_pouch(self,var):\n",
    "        self.content.append(var)\n",
    "    def pouch_contents(self):\n",
    "        print(self.content)\n",
    "\n",
    "m = Marsupial()\n",
    "m.put_in_pouch(\"doll\")\n",
    "m.put_in_pouch(\"firetruck\")\n",
    "m.put_in_pouch(\"kitten\")\n",
    "m.pouch_contents()\n",
    "\n",
    "class Kangaroo(Marsupial):\n",
    "    x = 0\n",
    "    y = 0\n",
    "    def __init__(self,x,y):\n",
    "        self.x = x\n",
    "        self.y = y\n",
    "    def __str__(self):\n",
    "        return 'I am a Kangaroo located at coordinates (' + str(self.x) + ',' + str(self.y)  + ')'\n",
    "    def jump(self,dx,dy):\n",
    "        self.x = self.x + dx\n",
    "        self.y = self.y + dy\n",
    "        \n",
    "k = Kangaroo(0,0)\n",
    "print(k)\n",
    "k.put_in_pouch('doll')\n",
    "k.put_in_pouch('firetruck')\n",
    "k.put_in_pouch('kitten')\n",
    "k.pouch_contents()\n",
    "\n",
    "k.jump(1,0)\n",
    "k.jump(1,0)\n",
    "k.jump(1,0)\n",
    "print(k)"
   ]
  },
  {
   "cell_type": "code",
   "execution_count": null,
   "id": "70cb0f7f",
   "metadata": {},
   "outputs": [],
   "source": []
  },
  {
   "cell_type": "code",
   "execution_count": 14,
   "id": "c5eae7a3",
   "metadata": {},
   "outputs": [],
   "source": [
    "#Question 4:\n",
    "\n",
    "def collatz(x):\n",
    "    print(x)\n",
    "    if x % 2 == 0:\n",
    "        return collatz(int(x / 2))\n",
    "    elif x == 1:\n",
    "        return\n",
    "    else:\n",
    "        return collatz(3 * x + 1)"
   ]
  },
  {
   "cell_type": "code",
   "execution_count": 15,
   "id": "2f25695b",
   "metadata": {},
   "outputs": [
    {
     "name": "stdout",
     "output_type": "stream",
     "text": [
      "1\n"
     ]
    }
   ],
   "source": [
    "collatz(1)"
   ]
  },
  {
   "cell_type": "code",
   "execution_count": 16,
   "id": "d9b08853",
   "metadata": {},
   "outputs": [
    {
     "name": "stdout",
     "output_type": "stream",
     "text": [
      "10\n",
      "5\n",
      "16\n",
      "8\n",
      "4\n",
      "2\n",
      "1\n"
     ]
    }
   ],
   "source": [
    "collatz(10)"
   ]
  },
  {
   "cell_type": "code",
   "execution_count": null,
   "id": "fe84d6e7",
   "metadata": {},
   "outputs": [],
   "source": []
  },
  {
   "cell_type": "code",
   "execution_count": 67,
   "id": "c6ede351",
   "metadata": {},
   "outputs": [
    {
     "name": "stdout",
     "output_type": "stream",
     "text": [
      "Enter a non-negative integer: 3\n"
     ]
    },
    {
     "data": {
      "text/plain": [
       "11"
      ]
     },
     "execution_count": 67,
     "metadata": {},
     "output_type": "execute_result"
    }
   ],
   "source": [
    "#Question 5:\n",
    "\n",
    "num = int(input(\"Enter a non-negative integer: \"))\n",
    "\n",
    "def binary(num):\n",
    "    if num == 0:\n",
    "        return 0\n",
    "    else:\n",
    "        return (num % 2 + 10 * binary(int(num / 2)))\n",
    "\n",
    "binary(num)"
   ]
  },
  {
   "cell_type": "code",
   "execution_count": null,
   "id": "ff10f657",
   "metadata": {},
   "outputs": [],
   "source": []
  },
  {
   "cell_type": "code",
   "execution_count": 69,
   "id": "4643c101",
   "metadata": {},
   "outputs": [
    {
     "name": "stdout",
     "output_type": "stream",
     "text": [
      " \n",
      "\n",
      " \n",
      "\n",
      "W3C Mission Summary\n",
      " \n",
      "\n",
      "\n",
      "\n",
      "\n",
      "\n",
      "W3C Mission\n",
      "\n",
      "\n",
      "\n",
      "The W3C mission is to lead the World Wide Web to its full potential\n",
      "\n",
      "by developing protocols and guidelines that ensure the long-term growth of the Web.\n",
      "\n",
      "\n",
      "\n",
      "Principles\n",
      "\n",
      "\n",
      "\n",
      "\n",
      "Web for All\n",
      "\n",
      "\n",
      "Web on Everything\n",
      "\n",
      "\n",
      "\n",
      "See the complete \n",
      "W3C Mission document\n",
      ".\n",
      "\n",
      "\n",
      "\n"
     ]
    }
   ],
   "source": [
    "#Question 6:\n",
    "\n",
    "from html.parser import HTMLParser\n",
    "\n",
    "class HeadingParser(HTMLParser):\n",
    "    common_headers = ['h1', 'h2', 'h3', 'h4', 'h5', 'h6']\n",
    "    \n",
    "    def tag_beginning(self, tag, attrs):\n",
    "        if tag in self.common_headers:\n",
    "            print(tag)\n",
    "            \n",
    "    def tag_ending(self, tag):\n",
    "        if tag in self.common_headers:\n",
    "            print(tag)\n",
    "            \n",
    "    def handle_data(self, data):\n",
    "        print(data)\n",
    "        \n",
    "infile = open('w3c.html')\n",
    "content = infile.read()\n",
    "infile.close()\n",
    "hp = HeadingParser()\n",
    "hp.feed(content)"
   ]
  },
  {
   "cell_type": "code",
   "execution_count": null,
   "id": "4a03a387",
   "metadata": {},
   "outputs": [],
   "source": []
  },
  {
   "cell_type": "code",
   "execution_count": 49,
   "id": "e3dec78f",
   "metadata": {},
   "outputs": [
    {
     "name": "stdout",
     "output_type": "stream",
     "text": [
      "\thttp://reed.cs.depaul.edu/lperkovic/test2.html\n",
      "\t\thttp://reed.cs.depaul.edu/lperkovic/test4.html\n",
      "\thttp://reed.cs.depaul.edu/lperkovic/test3.html\n",
      "\t\thttp://reed.cs.depaul.edu/lperkovic/test4.html\n"
     ]
    }
   ],
   "source": [
    "#Question 7:\n",
    "\n",
    "from bs4 import BeautifulSoup\n",
    "import requests\n",
    "   \n",
    "def webdir(url, depth, indent):\n",
    "    if depth > 0:\n",
    "        depth -= 1\n",
    "        indent += 1\n",
    "        try:\n",
    "            response = requests.get(url)\n",
    "        except:\n",
    "            pass\n",
    "        parsed_text = BeautifulSoup(response.text,\"html.parser\")\n",
    "        for i in parsed_text.find_all(\"a\"):\n",
    "            href = i.attrs['href']\n",
    "            if href.startswith(\"http\"):\n",
    "                new_url = href\n",
    "            elif href.startswith(\"mail\"):\n",
    "                continue\n",
    "            else:\n",
    "                new_url = url.rsplit('/', 1)[0]+\"/\"+href\n",
    "            print('\\t'*indent + new_url)\n",
    "            webdir(new_url, depth, indent)\n",
    "\n",
    "url = \"http://reed.cs.depaul.edu/lperkovic/test1.html\"\n",
    "webdir(url, 2, 0)"
   ]
  },
  {
   "cell_type": "code",
   "execution_count": null,
   "id": "3bfdd542",
   "metadata": {},
   "outputs": [],
   "source": []
  },
  {
   "cell_type": "code",
   "execution_count": 50,
   "id": "0cc8ce26",
   "metadata": {},
   "outputs": [
    {
     "data": {
      "text/plain": [
       "<sqlite3.Cursor at 0x2b5e645c030>"
      ]
     },
     "execution_count": 50,
     "metadata": {},
     "output_type": "execute_result"
    }
   ],
   "source": [
    "#Question 8:\n",
    "\n",
    "import sqlite3\n",
    "con = sqlite3.connect('climate.db')\n",
    "cur = con.cursor()\n",
    "cur.execute(\"CREATE TABLE CLIMATE (City, Country, Season, Temperature, Rainfall)\")\n",
    "cur.execute(\"INSERT INTO CLIMATE VALUES ('Mumbai', 'India', 'Winter', 24.8, 5.9)\")\n",
    "cur.execute(\"INSERT INTO CLIMATE VALUES ('Mumbai', 'India', 'Spring', 28.4, 16.2)\")\n",
    "cur.execute(\"INSERT INTO CLIMATE VALUES ('Mumbai', 'India', 'Summer', 27.9, 1549.4)\")\n",
    "cur.execute(\"INSERT INTO CLIMATE VALUES ('Mumbai', 'India', 'Fall', 27.6, 346.0)\")\n",
    "cur.execute(\"INSERT INTO CLIMATE VALUES ('London', 'United Kingdom', 'Winter', 4.2, 207.7)\")\n",
    "cur.execute(\"INSERT INTO CLIMATE VALUES ('London', 'United Kingdom', 'Spring', 8.3, 169.6)\")\n",
    "cur.execute(\"INSERT INTO CLIMATE VALUES ('London', 'United Kingdom', 'Summer', 15.7, 157.0)\")\n",
    "cur.execute(\"INSERT INTO CLIMATE VALUES ('London', 'United Kingdom', 'Fall', 10.4, 218.5)\")\n",
    "cur.execute(\"INSERT INTO CLIMATE VALUES ('Cairo', 'Egypt', 'Winter', 13.6, 16.5)\")\n",
    "cur.execute(\"INSERT INTO CLIMATE VALUES ('Cairo', 'Egypt', 'Spring', 20.7, 6.5)\")\n",
    "cur.execute(\"INSERT INTO CLIMATE VALUES ('Cairo', 'Egypt', 'Summer', 27.7, 0.1)\")\n",
    "cur.execute(\"INSERT INTO CLIMATE VALUES ('Cairo', 'Egypt', 'Fall', 22.2, 4.5)\")"
   ]
  },
  {
   "cell_type": "code",
   "execution_count": 52,
   "id": "804623bb",
   "metadata": {},
   "outputs": [
    {
     "name": "stdout",
     "output_type": "stream",
     "text": [
      "[(24.8,), (28.4,), (27.9,), (27.6,), (4.2,), (8.3,), (15.7,), (10.4,), (13.6,), (20.7,), (27.7,), (22.2,)]\n"
     ]
    }
   ],
   "source": [
    "cur.execute('SELECT Temperature FROM CLIMATE')\n",
    "print(cur.fetchall())"
   ]
  },
  {
   "cell_type": "code",
   "execution_count": 54,
   "id": "e13b9e18",
   "metadata": {},
   "outputs": [
    {
     "name": "stdout",
     "output_type": "stream",
     "text": [
      "[('Mumbai',), ('London',), ('Cairo',)]\n"
     ]
    }
   ],
   "source": [
    "cur.execute('SELECT DISTINCT City FROM CLIMATE')\n",
    "print(cur.fetchall())"
   ]
  },
  {
   "cell_type": "code",
   "execution_count": 55,
   "id": "eae38922",
   "metadata": {},
   "outputs": [
    {
     "name": "stdout",
     "output_type": "stream",
     "text": [
      "[('Mumbai', 'India', 'Winter', 24.8, 5.9), ('Mumbai', 'India', 'Spring', 28.4, 16.2), ('Mumbai', 'India', 'Summer', 27.9, 1549.4), ('Mumbai', 'India', 'Fall', 27.6, 346.0)]\n"
     ]
    }
   ],
   "source": [
    "country = 'India'\n",
    "cur.execute('SELECT * FROM CLIMATE WHERE Country = ?', (country,))\n",
    "print(cur.fetchall())"
   ]
  },
  {
   "cell_type": "code",
   "execution_count": 57,
   "id": "0801d535",
   "metadata": {},
   "outputs": [
    {
     "name": "stdout",
     "output_type": "stream",
     "text": [
      "[('Mumbai', 'India', 'Fall', 27.6, 346.0), ('London', 'United Kingdom', 'Fall', 10.4, 218.5), ('Cairo', 'Egypt', 'Fall', 22.2, 4.5)]\n"
     ]
    }
   ],
   "source": [
    "season = 'Fall'\n",
    "cur.execute('SELECT * FROM CLIMATE WHERE Season = ?', (season,))\n",
    "print(cur.fetchall())"
   ]
  },
  {
   "cell_type": "code",
   "execution_count": 59,
   "id": "e304886b",
   "metadata": {},
   "outputs": [
    {
     "name": "stdout",
     "output_type": "stream",
     "text": [
      "[('Mumbai', 'India', 'Fall'), ('London', 'United Kingdom', 'Winter'), ('London', 'United Kingdom', 'Fall')]\n"
     ]
    }
   ],
   "source": [
    "rainfall1 = 200\n",
    "rainfall2 = 400\n",
    "cur.execute('SELECT city, country, season FROM CLIMATE WHERE Rainfall BETWEEN ? AND ?', (rainfall1,rainfall2,))\n",
    "print(cur.fetchall())"
   ]
  },
  {
   "cell_type": "code",
   "execution_count": 61,
   "id": "f5968f7c",
   "metadata": {},
   "outputs": [
    {
     "name": "stdout",
     "output_type": "stream",
     "text": [
      "[('Cairo', 'Egypt'), ('Mumbai', 'India')]\n"
     ]
    }
   ],
   "source": [
    "season = 'Fall'\n",
    "temperature = 20\n",
    "cur.execute('SELECT city, country FROM CLIMATE WHERE Season = ? AND Temperature > ? ORDER BY Temperature', (season,temperature,))\n",
    "print(cur.fetchall())"
   ]
  },
  {
   "cell_type": "code",
   "execution_count": 62,
   "id": "920f4fc1",
   "metadata": {},
   "outputs": [
    {
     "name": "stdout",
     "output_type": "stream",
     "text": [
      "[(27.6,)]\n"
     ]
    }
   ],
   "source": [
    "city = 'Cairo'\n",
    "cur.execute('SELECT SUM(Rainfall) FROM CLIMATE WHERE City = ?', (city,))\n",
    "print(cur.fetchall())"
   ]
  },
  {
   "cell_type": "code",
   "execution_count": 63,
   "id": "03bd3cbc",
   "metadata": {},
   "outputs": [
    {
     "name": "stdout",
     "output_type": "stream",
     "text": [
      "[(230.1,)]\n",
      "[(192.29999999999998,)]\n",
      "[(1706.5,)]\n",
      "[(569.0,)]\n"
     ]
    }
   ],
   "source": [
    "season1 = 'Winter'\n",
    "season2 = 'Spring'\n",
    "season3 = 'Summer'\n",
    "season4 = 'Fall'\n",
    "\n",
    "cur.execute('SELECT SUM(Rainfall) FROM CLIMATE WHERE Season = ?', (season1,))\n",
    "print(cur.fetchall())\n",
    "cur.execute('SELECT SUM(Rainfall) FROM CLIMATE WHERE Season = ?', (season2,))\n",
    "print(cur.fetchall())\n",
    "cur.execute('SELECT SUM(Rainfall) FROM CLIMATE WHERE Season = ?', (season3,))\n",
    "print(cur.fetchall())\n",
    "cur.execute('SELECT SUM(Rainfall) FROM CLIMATE WHERE Season = ?', (season4,))\n",
    "print(cur.fetchall())"
   ]
  },
  {
   "cell_type": "code",
   "execution_count": null,
   "id": "b7664f10",
   "metadata": {},
   "outputs": [],
   "source": []
  },
  {
   "cell_type": "code",
   "execution_count": 66,
   "id": "aa299495",
   "metadata": {},
   "outputs": [
    {
     "name": "stdout",
     "output_type": "stream",
     "text": [
      "['THE', 'QUICK', 'BROWN', 'FOX', 'JUMPS', 'OVER', 'THE', 'LAZY', 'DOG']\n",
      "['the', 'quick', 'brown', 'fox', 'jumps', 'over', 'the', 'lazy', 'dog']\n",
      "[3, 5, 5, 3, 5, 4, 3, 4, 3]\n",
      "[['THE', 'the', 3], ['QUICK', 'quick', 5], ['BROWN', 'brown', 5], ['FOX', 'fox', 3], ['JUMPS', 'jumps', 5], ['OVER', 'over', 4], ['THE', 'the', 3], ['LAZY', 'lazy', 4], ['DOG', 'dog', 3]]\n",
      "['quick', 'brown', 'jumps', 'over', 'lazy']\n"
     ]
    }
   ],
   "source": [
    "#Question 9:\n",
    "\n",
    "words = ['The', 'quick', 'brown', 'fox', 'jumps', 'over', 'the', 'lazy', 'dog']\n",
    "\n",
    "upper_words = []\n",
    "for w in words:\n",
    "    upper_words.append(w.upper())\n",
    "print(upper_words)  \n",
    "\n",
    "lower_words = []\n",
    "for w in words:\n",
    "    lower_words.append(w.lower())\n",
    "print(lower_words)\n",
    "\n",
    "len_words = []\n",
    "for w in words:\n",
    "    len_words.append(len(w))\n",
    "print(len_words)\n",
    "\n",
    "mix_words = []\n",
    "for w in words:\n",
    "    mix_words.append([w.upper(),w.lower(),len(w)]  )\n",
    "print(mix_words)\n",
    "                   \n",
    "less_words = []\n",
    "for w in words:\n",
    "    if len(w)>=4:\n",
    "        less_words.append(w )\n",
    "print(less_words)"
   ]
  }
 ],
 "metadata": {
  "kernelspec": {
   "display_name": "Python 3 (ipykernel)",
   "language": "python",
   "name": "python3"
  },
  "language_info": {
   "codemirror_mode": {
    "name": "ipython",
    "version": 3
   },
   "file_extension": ".py",
   "mimetype": "text/x-python",
   "name": "python",
   "nbconvert_exporter": "python",
   "pygments_lexer": "ipython3",
   "version": "3.9.12"
  }
 },
 "nbformat": 4,
 "nbformat_minor": 5
}
